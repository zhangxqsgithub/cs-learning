{
 "cells": [
  {
   "cell_type": "code",
   "execution_count": 73,
   "metadata": {},
   "outputs": [],
   "source": [
    "url = 'https://map.fang.com/ajaxSearch.html'"
   ]
  },
  {
   "cell_type": "code",
   "execution_count": 74,
   "metadata": {},
   "outputs": [],
   "source": [
    "params = {\n",
    "    'city': 'cd',                     # 城市【cd：成都】\n",
    "    'type': 'xf,esf',                 # 房屋类型【xf：新房；esf：二手房】\n",
    "    'xfPrice': '',                    # 新房价格【x-y 单位万】\n",
    "    'esfPrice':  '',                  # 二手房价格【x-y 单位万】\n",
    "    'zfPrice': '',                    # 租房价格【x-y 单位万】\n",
    "    'room': 2,                        # 几居【空为不限】\n",
    "    'area': '',                       # 面积【x-y 单位平方米】\n",
    "    'purpose': 1,                     # 用途【0：不限；1：住宅；2：别墅；3：写字楼；4：商铺；】\n",
    "    'keyword': '',                    # 搜索关键字【例如小区名称】\n",
    "    'zoom': '15.360643272362998',     # 缩放大小【数字越大缩放越大】\n",
    "    'newcodeType': '',\n",
    "    'newcode': '',\n",
    "    'x1': '104.05041761230672',       # 左下角经度\n",
    "    'y1': '30.591717263023554',       # 左下角纬度\n",
    "    'x2': '104.16349490344756',       # 右上角经度\n",
    "    'y2': '30.64458069707064',        # 右上角纬度\n",
    "    'subwayline': '',                 # 地铁几号线\n",
    "    'subwaystation': '',              # 地铁站\n",
    "    'issamllcity': 0,\n",
    "    'fapaiPrice': '',\n",
    "    'fapaiPropertyType': '',\n",
    "    'fapaiStage': '',\n",
    "    'fapaiStatus': '',\n",
    "    'noevent': 'false',\n",
    "    'pagingType': 'esf',              # 分页类型【esf：二手房】\n",
    "    'pagingNum': 2,                   # 页码\n",
    "}"
   ]
  },
  {
   "cell_type": "code",
   "execution_count": 110,
   "metadata": {},
   "outputs": [],
   "source": [
    "from urllib import parse\n",
    "\n",
    "# 把 params 变成 query string\n",
    "qs = parse.urlencode(params)\n",
    "# print(qs)"
   ]
  },
  {
   "cell_type": "code",
   "execution_count": 111,
   "metadata": {},
   "outputs": [],
   "source": [
    "headers = {\n",
    "}"
   ]
  },
  {
   "cell_type": "code",
   "execution_count": 112,
   "metadata": {},
   "outputs": [],
   "source": [
    "import requests\n",
    "\n",
    "response = requests.get(url + \"?\" + qs, headers=headers)\n",
    "# print(response.json())\n",
    "d = response.json()"
   ]
  },
  {
   "cell_type": "code",
   "execution_count": 114,
   "metadata": {},
   "outputs": [],
   "source": [
    "esf = 'esf'\n",
    "xf = 'xf'\n",
    "\n",
    "# 所有的新房楼盘\n",
    "sflp_all = []\n",
    "# 所有的新房房源\n",
    "xffy_all = []\n",
    "# 所有的二手房楼盘\n",
    "esflp_all = []\n",
    "# 所有的二手房房源\n",
    "esffy_all = []"
   ]
  },
  {
   "cell_type": "code",
   "execution_count": 122,
   "metadata": {},
   "outputs": [
    {
     "name": "stdout",
     "output_type": "stream",
     "text": [
      "100\n"
     ]
    }
   ],
   "source": [
    "# 找出所有的二手房楼盘\n",
    "esflp_all = []\n",
    "esf_pagenum = d['data']['esflist']['fangyuanList']['pagenum']\n",
    "\n",
    "params['type'] = esf\n",
    "params['pagingType'] = esf\n",
    "params['pagingNum'] = 1\n",
    "qs = parse.urlencode(params)\n",
    "# print(qs)\n",
    "resonse = requests.get(url + '?' + qs, headers=headers)\n",
    "d = response.json()\n",
    "esflp_all.extend(d['data']['esflist']['loupanList']['hit'])\n",
    "print(len(esflp_all))\n",
    "# print(esflp_all)"
   ]
  },
  {
   "cell_type": "code",
   "execution_count": 123,
   "metadata": {},
   "outputs": [
    {
     "name": "stdout",
     "output_type": "stream",
     "text": [
      "{'newcode': '3211116596', 'projname': '中港CCPARK', 'x': '104.10273742675781', 'y': '30.623855590820312', 'price': '0.82', 'address': '二环琉璃路口(东湖公园旁)', 'tao': 1, 'district': '', 'comarea': '', 'domain': '//cd.esf.fang.com/loupan/3211116596.htm', 'zhangfu': '', 'zfTao': 0, 'housetype': 'esf'}\n",
      "{'newcode': '3211185164', 'projname': '旺旺商业广场', 'x': '104.07614135742188', 'y': '30.594036102294922', 'price': '1.02', 'address': '天府大道北段869号', 'tao': 5, 'district': '', 'comarea': '', 'domain': '//cd.esf.fang.com/loupan/3211185164.htm', 'zhangfu': '', 'zfTao': 0, 'housetype': 'esf'}\n",
      "{'newcode': '3210834542', 'projname': '神仙树3号院', 'x': '104.05171966552734', 'y': '30.627090454101562', 'price': '1.02', 'address': '神仙树西路3号', 'tao': 1, 'district': '', 'comarea': '', 'domain': '//cd.esf.fang.com/loupan/3210834542.htm', 'zhangfu': '', 'zfTao': 0, 'housetype': 'esf'}\n"
     ]
    }
   ],
   "source": [
    "# 根据低价排序\n",
    "_l = sorted(esflp_all, key=lambda x:float(x['price']))\n",
    "for itm in _l[:3]:\n",
    "    print(itm)"
   ]
  },
  {
   "cell_type": "code",
   "execution_count": 125,
   "metadata": {},
   "outputs": [
    {
     "name": "stdout",
     "output_type": "stream",
     "text": [
      "{'newcode': '3210161288', 'projname': '桐梓林7号', 'x': '104.0783462524414', 'y': '30.621627807617188', 'price': '2.28', 'address': '新希望路7号', 'tao': 56, 'district': '', 'comarea': '', 'domain': '//cd.esf.fang.com/loupan/3210161288.htm', 'zhangfu': '', 'zfTao': 0, 'housetype': 'esf'}\n",
      "{'newcode': '3210157754', 'projname': 'COSMO天廊', 'x': '104.12754821777344', 'y': '30.634355545043945', 'price': '2.82', 'address': '上沙河铺街66号', 'tao': 21, 'district': '', 'comarea': '', 'domain': '//cd.esf.fang.com/loupan/3210157754.htm', 'zhangfu': '', 'zfTao': 0, 'housetype': 'esf'}\n",
      "{'newcode': '3211045346', 'projname': '吉宝凌云峰阁', 'x': '104.11190795898438', 'y': '30.638246536254883', 'price': '3.97', 'address': '汇泉南路333号', 'tao': 12, 'district': '', 'comarea': '', 'domain': '//cd.esf.fang.com/loupan/3211045346.htm', 'zhangfu': '', 'zfTao': 0, 'housetype': 'esf'}\n"
     ]
    }
   ],
   "source": [
    "# 根据 tao??? 排序\n",
    "_l = sorted(esflp_all, key=lambda x:x['tao'], reverse=True)\n",
    "for itm in _l[:3]:\n",
    "    print(itm)"
   ]
  },
  {
   "cell_type": "code",
   "execution_count": 103,
   "metadata": {},
   "outputs": [
    {
     "name": "stdout",
     "output_type": "stream",
     "text": [
      "1500\n"
     ]
    }
   ],
   "source": [
    "# 找出所有的二手房房源\n",
    "esf_pagenum = d['data']['esflist']['fangyuanList']['pagenum']\n",
    "\n",
    "params['type'] = esf\n",
    "params['pagingType'] = esf\n",
    "for p in range(1, esf_pagenum):\n",
    "    params['pagingNum'] = p\n",
    "    qs = parse.urlencode(params)\n",
    "    # print(qs)\n",
    "    resonse = requests.get(url + '?' + qs, headers=headers)\n",
    "    d = response.json()\n",
    "    esffy_all.extend(d['data']['esflist']['fangyuanList']['hit'])\n",
    "    # print(len(esffy_all))\n",
    "\n",
    "print(len(esffy_all))"
   ]
  },
  {
   "cell_type": "code",
   "execution_count": 107,
   "metadata": {},
   "outputs": [
    {
     "name": "stdout",
     "output_type": "stream",
     "text": [
      "{'newcode': '3211116596', 'projname': '中港CCPARK', 'x': '104.10273742675781', 'y': '30.623855590820312', 'price': '0.82', 'address': '二环琉璃路口(东湖公园旁)', 'tao': 1, 'district': '', 'comarea': '', 'domain': '//cd.esf.fang.com/loupan/3211116596.htm', 'zhangfu': '', 'zfTao': 0, 'housetype': 'esf'}\n",
      "{'newcode': '3211116596', 'projname': '中港CCPARK', 'x': '104.10273742675781', 'y': '30.623855590820312', 'price': '0.82', 'address': '二环琉璃路口(东湖公园旁)', 'tao': 1, 'district': '', 'comarea': '', 'domain': '//cd.esf.fang.com/loupan/3211116596.htm', 'zhangfu': '', 'zfTao': 0, 'housetype': 'esf'}\n",
      "{'newcode': '3211116596', 'projname': '中港CCPARK', 'x': '104.10273742675781', 'y': '30.623855590820312', 'price': '0.82', 'address': '二环琉璃路口(东湖公园旁)', 'tao': 1, 'district': '', 'comarea': '', 'domain': '//cd.esf.fang.com/loupan/3211116596.htm', 'zhangfu': '', 'zfTao': 0, 'housetype': 'esf'}\n",
      "{'newcode': '3211116596', 'projname': '中港CCPARK', 'x': '104.10273742675781', 'y': '30.623855590820312', 'price': '0.82', 'address': '二环琉璃路口(东湖公园旁)', 'tao': 1, 'district': '', 'comarea': '', 'domain': '//cd.esf.fang.com/loupan/3211116596.htm', 'zhangfu': '', 'zfTao': 0, 'housetype': 'esf'}\n",
      "{'newcode': '3211116596', 'projname': '中港CCPARK', 'x': '104.10273742675781', 'y': '30.623855590820312', 'price': '0.82', 'address': '二环琉璃路口(东湖公园旁)', 'tao': 1, 'district': '', 'comarea': '', 'domain': '//cd.esf.fang.com/loupan/3211116596.htm', 'zhangfu': '', 'zfTao': 0, 'housetype': 'esf'}\n",
      "{'newcode': '3211116596', 'projname': '中港CCPARK', 'x': '104.10273742675781', 'y': '30.623855590820312', 'price': '0.82', 'address': '二环琉璃路口(东湖公园旁)', 'tao': 1, 'district': '', 'comarea': '', 'domain': '//cd.esf.fang.com/loupan/3211116596.htm', 'zhangfu': '', 'zfTao': 0, 'housetype': 'esf'}\n",
      "{'newcode': '3211116596', 'projname': '中港CCPARK', 'x': '104.10273742675781', 'y': '30.623855590820312', 'price': '0.82', 'address': '二环琉璃路口(东湖公园旁)', 'tao': 1, 'district': '', 'comarea': '', 'domain': '//cd.esf.fang.com/loupan/3211116596.htm', 'zhangfu': '', 'zfTao': 0, 'housetype': 'esf'}\n",
      "{'newcode': '3211116596', 'projname': '中港CCPARK', 'x': '104.10273742675781', 'y': '30.623855590820312', 'price': '0.82', 'address': '二环琉璃路口(东湖公园旁)', 'tao': 1, 'district': '', 'comarea': '', 'domain': '//cd.esf.fang.com/loupan/3211116596.htm', 'zhangfu': '', 'zfTao': 0, 'housetype': 'esf'}\n",
      "{'newcode': '3211116596', 'projname': '中港CCPARK', 'x': '104.10273742675781', 'y': '30.623855590820312', 'price': '0.82', 'address': '二环琉璃路口(东湖公园旁)', 'tao': 1, 'district': '', 'comarea': '', 'domain': '//cd.esf.fang.com/loupan/3211116596.htm', 'zhangfu': '', 'zfTao': 0, 'housetype': 'esf'}\n",
      "{'newcode': '3211116596', 'projname': '中港CCPARK', 'x': '104.10273742675781', 'y': '30.623855590820312', 'price': '0.82', 'address': '二环琉璃路口(东湖公园旁)', 'tao': 1, 'district': '', 'comarea': '', 'domain': '//cd.esf.fang.com/loupan/3211116596.htm', 'zhangfu': '', 'zfTao': 0, 'housetype': 'esf'}\n"
     ]
    }
   ],
   "source": [
    "esffy_top_lp = sorted(esffy_all, key=lambda x:float(x['price']))\n",
    "esffy_top_num = 10\n",
    "for itm in esffy_top_lp[:esffy_top_num]: \n",
    "    print(itm)\n",
    "    # print(itm['title'])\n",
    "    # print(itm['projname'])                       # 标题\n",
    "    # print(itm['price'] + itm['pricetype'])       # 价格\n",
    "    # print(itm['address'])                        # 地址\n",
    "    # print(itm['buildarea'])                      # 面积\n",
    "    # print(itm['comarea'])                        # 公摊面积\n",
    "    # print(itm['forward'])                        # 朝向\n",
    "    # print(itm['huxing'])                         # 户型\n",
    "    # print(itm['isspecialprice'])                 # 是否特价【0：否；1：是；】\n",
    "    # print(itm['priceperarea'] + '/' + itm['priceperareatype']) # 多少元/平\n",
    "    # print(itm['tags'])        # 标签\n",
    "    # print(itm['district'])    # 区\n",
    "    # print(itm['domain'])      # \n",
    "    # print(itm['housetype'])   # 房屋类型\n",
    "    # print(itm['newcode'])     # \n",
    "    # print(itm['tao'])\n",
    "    # print(itm['x'])           # 经度\n",
    "    # print(itm['y'])           # 纬度\n",
    "    # print(itm['zfTao'])\n",
    "    # print(itm['zhangfu'])     # 涨幅"
   ]
  }
 ],
 "metadata": {
  "kernelspec": {
   "display_name": "myenv",
   "language": "python",
   "name": "python3"
  },
  "language_info": {
   "codemirror_mode": {
    "name": "ipython",
    "version": 3
   },
   "file_extension": ".py",
   "mimetype": "text/x-python",
   "name": "python",
   "nbconvert_exporter": "python",
   "pygments_lexer": "ipython3",
   "version": "3.10.4 (main, Mar 31 2022, 03:38:35) [Clang 12.0.0 ]"
  },
  "orig_nbformat": 4,
  "vscode": {
   "interpreter": {
    "hash": "fe32b506a41fd6e547419893516eb0475b202c6663ab6a0e062f20e9f3dc1f92"
   }
  }
 },
 "nbformat": 4,
 "nbformat_minor": 2
}
