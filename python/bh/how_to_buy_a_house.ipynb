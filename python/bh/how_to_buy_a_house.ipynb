{
 "cells": [
  {
   "cell_type": "code",
   "execution_count": 28,
   "metadata": {},
   "outputs": [],
   "source": [
    "url = 'https://map.fang.com/ajaxSearch.html'\n",
    "# print(url)"
   ]
  },
  {
   "cell_type": "code",
   "execution_count": 29,
   "metadata": {},
   "outputs": [],
   "source": [
    "params = {\n",
    "    'city': 'cd',                     # 城市【cd：成都】\n",
    "    'type': 'xf,esf',                 # 房屋类型【xf：新房；esf：二手房】\n",
    "    'xfPrice': '',                    # 新房价格【x-y 单位万】\n",
    "    'esfPrice':  '',                  # 二手房价格【x-y 单位万】\n",
    "    'zfPrice': '',                    # 租房价格【x-y 单位万】\n",
    "    'room': 2,                        # 几居【空为不限】\n",
    "    'area': '',                       # 面积【x-y 单位平方米】\n",
    "    'purpose': 0,                     # 用途【0：不限；1：住宅；2：别墅；3：写字楼；4：商铺；】\n",
    "    'keyword': '',                    # 搜索关键字【例如小区名称】\n",
    "    'zoom': '15.360643272362998',     # 缩放大小【数字越大缩放越大】\n",
    "    'newcodeType': '',\n",
    "    'newcode': '',\n",
    "    'pagingType': '',\n",
    "    'pagingNum': 1,\n",
    "    'x1': '104.05041761230672',       # 左下角经度\n",
    "    'y1': '30.591717263023554',       # 左下角纬度\n",
    "    'x2': '104.16349490344756',       # 右上角经度\n",
    "    'y2': '30.64458069707064',       # 右上角纬度\n",
    "    'subwayline': '',                 # 地铁几号线\n",
    "    'subwaystation': '',              # 地铁站\n",
    "    'issamllcity': 0,\n",
    "    'fapaiPrice': '',\n",
    "    'fapaiPropertyType': '',\n",
    "    'fapaiStage': '',\n",
    "    'fapaiStatus': '',\n",
    "    'noevent': 'false'\n",
    "}\n",
    "# print(params)"
   ]
  },
  {
   "cell_type": "code",
   "execution_count": 30,
   "metadata": {},
   "outputs": [],
   "source": [
    "from urllib import parse\n",
    "\n",
    "# 把 params 变成 qs\n",
    "qs = parse.urlencode(params)\n",
    "# print(qs)"
   ]
  },
  {
   "cell_type": "code",
   "execution_count": 31,
   "metadata": {},
   "outputs": [],
   "source": [
    "url = url + \"?\" + qs\n",
    "# print(url)"
   ]
  },
  {
   "cell_type": "code",
   "execution_count": 32,
   "metadata": {},
   "outputs": [],
   "source": [
    "headers = {\n",
    "}\n",
    "\n",
    "# print(headers)"
   ]
  },
  {
   "cell_type": "code",
   "execution_count": 33,
   "metadata": {},
   "outputs": [],
   "source": [
    "import requests\n",
    "\n",
    "response = requests.get(url, headers=headers)\n",
    "# print(response.json())\n",
    "d = response.json()"
   ]
  },
  {
   "cell_type": "code",
   "execution_count": 52,
   "metadata": {},
   "outputs": [],
   "source": [
    "# print(d['code'])\n",
    "# print(d['msg'])\n",
    "# print(d['data']['comarea'])  # 区域信息\n",
    "# print(d['data']['xflist'])   # 新房列表\n",
    "# print(d['data']['esflist'])  # 二手房列表\n",
    "\n",
    "xflist = d['data']['xflist']['loupanList']['hit']\n",
    "esflist = d['data']['esflist']['loupanList']['hit']"
   ]
  },
  {
   "cell_type": "code",
   "execution_count": 35,
   "metadata": {},
   "outputs": [
    {
     "name": "stdout",
     "output_type": "stream",
     "text": [
      "锦江阁\n",
      "阿玛尼艺术公寓\n",
      "华侨城滨江壹号\n",
      "泊鲤\n",
      "锦御东府\n"
     ]
    }
   ],
   "source": [
    "# 新房数据分析\n",
    "# print(xflist['loupanList']['allResultNum']) # 所有数据总数\n",
    "# print(xflist['loupanList']['pagenum'])      # 页数\n",
    "# print(xflist['loupanList']['hit'])          # 命中的小区\n",
    "\n",
    "for itm in xflist:\n",
    "    print(itm['title'])              # 小区名称\n",
    "    # print(itm['adshowurl'])          # \n",
    "    # print(itm['adtype'])             # \n",
    "    # print(itm['bbs'])                # 订阅\n",
    "    # print(itm['dianpingcount'])      # 点评\n",
    "    # print(itm['housedetail'])        # 房屋详情\n",
    "    # print(itm['housedongtai'])       # 房屋动态\n",
    "    # print(itm['householdpic'])       # \n",
    "    # print(itm['housetagarr'])        # \n",
    "    # print(itm['housetype'])          # 房屋类型【loupan：楼盘】\n",
    "    # print(itm['houseurl'])           # 房屋链接\n",
    "    # print(itm['minarea'])            # 最小面积\n",
    "    # print(itm['maxarea'])            # 最大面积\n",
    "    # print(itm['newCode'])            # \n",
    "    # print(itm['photo'])              # 房屋照片\n",
    "    # print(itm['picAddress'])         # 照片地址\n",
    "    # print(itm['price_num'])          # \n",
    "    # print(itm['price_unit'])         # \n",
    "    # print(itm['purpose'])            # 用途\n",
    "    # print(itm['saling'])             # 是否在售？\n",
    "    # print(itm['tao'])                # \n",
    "    # print(itm['tejia'])              # 特价？\n",
    "    # print(itm['xiaoguotu'])          # \n",
    "    # print(itm['x'])                  # 小区所在经度\n",
    "    # print(itm['y'])                  # 小区所在维度\n",
    "    # print(itm['yidi'])               # \n",
    "    # print(itm['zongfen'])            # 总分（房天下的评分）\n"
   ]
  },
  {
   "cell_type": "code",
   "execution_count": 37,
   "metadata": {},
   "outputs": [
    {
     "name": "stdout",
     "output_type": "stream",
     "text": [
      "桐梓林7号 2.28\n",
      "COSMO天廊 2.82\n",
      "吉宝凌云峰阁 3.97\n",
      "成都ICC凯旋门 3.66\n",
      "绿地468公馆 2.70\n",
      "望江橡树林一期 2.58\n",
      "华熙528艺术村 3.02\n",
      "华都美林湾 2.20\n",
      "锦蓉佳苑天阔 2.42\n",
      "万科金润华府 2.87\n",
      "南城都汇汇雅园 2.90\n",
      "旺旺商业广场 1.02\n",
      "佳年华广场一期 2.28\n",
      "镏金岁月 2.69\n",
      "时代晶科名苑 3.10\n",
      "东洪广厦 1.78\n",
      "神仙树北路6号院 1.41\n",
      "信和御龙山 2.77\n",
      "奥克斯广场 1.25\n",
      "摩玛城 2.25\n",
      "华润幸福里 2.94\n",
      "交大绿岭一期 2.00\n",
      "和祥瑞苑 2.20\n",
      "成都ICC天曜 4.10\n",
      "天府长城柏南郡 2.94\n",
      "人居锦尚春天 1.86\n",
      "中海翠屏湾 3.06\n",
      "卓锦城一期 1.94\n",
      "滨河湾 4.84\n",
      "澳龙名城 2.84\n",
      "天府长城丽日清风 2.58\n",
      "桐梓林欧城 2.76\n",
      "上海东韵 2.71\n",
      "中海格林威治城 2.66\n",
      "翡翠城五期 3.46\n",
      "锦东庭园 2.81\n",
      "鑫苑名家一期 1.93\n",
      "国嘉新视界 1.10\n",
      "卓锦城三期 2.19\n",
      "首创国际城一期 1.92\n",
      "南城都汇汇翠园 3.04\n",
      "王府花园(高新) 1.78\n",
      "南城都汇汇尚园 3.26\n",
      "卓锦城五期 2.62\n",
      "中房优山PLUS 2.97\n",
      "鑫苑名家二期 2.06\n",
      "保利天悦 2.44\n",
      "魅力阳光 1.56\n",
      "卓锦城四期 2.32\n",
      "锦江城市花园一期 1.98\n",
      "天府长城图南多 3.18\n",
      "成功红树林 2.37\n",
      "南城都汇汇馨园 3.00\n",
      "棕北国际 2.09\n",
      "俊发星雅俊园 1.15\n",
      "翡翠城四期 2.78\n",
      "神仙树3号院 1.02\n",
      "天府名居 2.61\n",
      "大观苑二期 1.24\n",
      "南城都汇汇智园 3.07\n",
      "锦江城市花园二期 1.91\n",
      "卓锦城二期 2.01\n",
      "东景雅苑 1.62\n",
      "东润理想居 1.62\n",
      "万科魅力之城四期 2.30\n",
      "翠云庭 1.83\n",
      "中港CCPARK 0.82\n",
      "华宇广场 2.51\n",
      "锦江城市花园三期 2.03\n",
      "比华利国际城一期 2.11\n",
      "莲花新一区 1.38\n",
      "望江橡树林三期 2.96\n",
      "观南上域 2.36\n",
      "海棠佳苑 1.79\n",
      "蓝润V客东都 1.11\n",
      "凯丽滨江 3.15\n",
      "阳光100米娅中心 2.02\n",
      "神仙树大院五期 2.03\n",
      "华润凯旋天地 2.48\n",
      "中国水电泛悦国际 2.77\n",
      "比华利国际城二期 2.53\n",
      "吉祥佳苑 2.05\n",
      "北顺街6号院 1.34\n",
      "粼江峰阁 2.55\n",
      "首航欣程 2.69\n",
      "沙河壹号二期 2.21\n",
      "天誉南庭 4.13\n",
      "东景家园 1.69\n",
      "万科城市花园 2.95\n",
      "蓝谷地一期 1.77\n",
      "锦馨家园 1.33\n",
      "卓锦城六期 2.78\n",
      "上东家园 1.17\n",
      "望江橡树林二期 2.98\n",
      "望江嘉苑 2.27\n"
     ]
    }
   ],
   "source": [
    "# 二手房 -- 楼盘\n",
    "for itm in esflist:\n",
    "    print(itm['projname'], itm['price'])\n",
    "    # print(itm['address'])\n",
    "    # print(itm['comarea'])\n",
    "    # print(itm['district'])\n",
    "    # print(itm['domain'])\n",
    "    # print(itm['housetype'])\n",
    "    # print(itm['newcode'])\n",
    "    # print(itm['tao'])\n",
    "    # print(itm['x'])\n",
    "    # print(itm['y'])\n",
    "    # print(itm['zfTao'])\n",
    "    # print(itm['zhangfu'])"
   ]
  },
  {
   "cell_type": "code",
   "execution_count": 63,
   "metadata": {},
   "outputs": [
    {
     "name": "stdout",
     "output_type": "stream",
     "text": [
      "桐梓林7号 2.28\n",
      "COSMO天廊 2.82\n",
      "吉宝凌云峰阁 3.97\n",
      "成都ICC凯旋门 3.66\n",
      "绿地468公馆 2.70\n",
      "望江橡树林一期 2.58\n",
      "华熙528艺术村 3.02\n",
      "华都美林湾 2.20\n",
      "锦蓉佳苑天阔 2.42\n",
      "万科金润华府 2.87\n"
     ]
    }
   ],
   "source": [
    "import heapq\n",
    "\n",
    "# 二手房 -- 楼盘     低价排名前 10\n",
    "sorted(esflist, key=lambda x:float(x['price']))\n",
    "\n",
    "lp_num = 10\n",
    "for itm in esflist[:lp_num]:\n",
    "    print(itm['projname'], itm['price'])"
   ]
  },
  {
   "cell_type": "code",
   "execution_count": 36,
   "metadata": {},
   "outputs": [
    {
     "name": "stdout",
     "output_type": "stream",
     "text": [
      "捡漏豪装现房 三面采光户型 地铁上建\n",
      "南二环主城区精装现房在售服务式70年住宅\n",
      "南二环主城区精装现房在售服务式70年住宅\n",
      "武侯区桐梓林70年住宅 租金7K 精装套二 近地铁核心地段\n",
      "捡漏豪装现房 三面采光户型 地铁上建\n",
      "市中心 主城区 精装现房在售 服务式70年住宅 直接购买\n",
      "武侯区南二环桐梓林板块70年豪装现房住宅近地铁高端物业\n",
      "新上攀成钢COSMO天廊|品质攀成钢天廊4.9米品质新房\n",
      "不收你中介费-还要给你几万块钱-金融城,瑞禧公馆70年读泡小\n",
      "市中心地铁入户4.9米跃层 买一层得两层 超大赠送 商业成熟\n",
      "高新区金融城,70年住宅正 读泡小 可按揭 总价低至158万\n",
      "拥金仅0.5%,高新,精装套二,带地暖,安静,视野好,有學位\n",
      "南二环 地铁口 单价1.3 精装公寓\n",
      "鑫苑名家二期 2室1厅 东南\n",
      "望江橡树林一期 2室1厅 南 北\n",
      "比华利国际城二期 2室1厅 东南\n",
      "东二环攀成钢 仁恒滨河湾 精装套二安静不临街 吉宝凌云峰阁\n",
      "全成都二手房都有-中介费-只收0.5个点-华都美林湾 2室南\n",
      "新上万科金润华府 中阶费0.5% 精装套二 满五年 东南朝向\n",
      "满五 魅力阳光中阶费0.5 采光光好 周边商圈成熟\n"
     ]
    }
   ],
   "source": [
    "# 二手房 -- 房源\n",
    "for itm in esflist['fangyuanList']['hit']:\n",
    "    print(itm['title'])\n",
    "\n"
   ]
  }
 ],
 "metadata": {
  "kernelspec": {
   "display_name": "myenv",
   "language": "python",
   "name": "python3"
  },
  "language_info": {
   "codemirror_mode": {
    "name": "ipython",
    "version": 3
   },
   "file_extension": ".py",
   "mimetype": "text/x-python",
   "name": "python",
   "nbconvert_exporter": "python",
   "pygments_lexer": "ipython3",
   "version": "3.10.4"
  },
  "orig_nbformat": 4,
  "vscode": {
   "interpreter": {
    "hash": "fe32b506a41fd6e547419893516eb0475b202c6663ab6a0e062f20e9f3dc1f92"
   }
  }
 },
 "nbformat": 4,
 "nbformat_minor": 2
}
