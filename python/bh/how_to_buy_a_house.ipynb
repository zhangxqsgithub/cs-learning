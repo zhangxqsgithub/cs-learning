{
 "cells": [
  {
   "cell_type": "code",
   "execution_count": 73,
   "metadata": {},
   "outputs": [],
   "source": [
    "url = 'https://map.fang.com/ajaxSearch.html'"
   ]
  },
  {
   "cell_type": "code",
   "execution_count": 74,
   "metadata": {},
   "outputs": [],
   "source": [
    "params = {\n",
    "    'city': 'cd',                     # 城市【cd：成都】\n",
    "    'type': 'xf,esf',                 # 房屋类型【xf：新房；esf：二手房】\n",
    "    'xfPrice': '',                    # 新房价格【x-y 单位万】\n",
    "    'esfPrice':  '',                  # 二手房价格【x-y 单位万】\n",
    "    'zfPrice': '',                    # 租房价格【x-y 单位万】\n",
    "    'room': 2,                        # 几居【空为不限】\n",
    "    'area': '',                       # 面积【x-y 单位平方米】\n",
    "    'purpose': 1,                     # 用途【0：不限；1：住宅；2：别墅；3：写字楼；4：商铺；】\n",
    "    'keyword': '',                    # 搜索关键字【例如小区名称】\n",
    "    'zoom': '15.360643272362998',     # 缩放大小【数字越大缩放越大】\n",
    "    'newcodeType': '',\n",
    "    'newcode': '',\n",
    "    'x1': '104.05041761230672',       # 左下角经度\n",
    "    'y1': '30.591717263023554',       # 左下角纬度\n",
    "    'x2': '104.16349490344756',       # 右上角经度\n",
    "    'y2': '30.64458069707064',        # 右上角纬度\n",
    "    'subwayline': '',                 # 地铁几号线\n",
    "    'subwaystation': '',              # 地铁站\n",
    "    'issamllcity': 0,\n",
    "    'fapaiPrice': '',\n",
    "    'fapaiPropertyType': '',\n",
    "    'fapaiStage': '',\n",
    "    'fapaiStatus': '',\n",
    "    'noevent': 'false',\n",
    "    'pagingType': 'esf',              # 分页类型【esf：二手房】\n",
    "    'pagingNum': 2,                   # 页码\n",
    "}"
   ]
  },
  {
   "cell_type": "code",
   "execution_count": 75,
   "metadata": {},
   "outputs": [],
   "source": [
    "from urllib import parse\n",
    "\n",
    "# 把 params 变成 query string\n",
    "qs = parse.urlencode(params)\n",
    "# print(qs)"
   ]
  },
  {
   "cell_type": "code",
   "execution_count": 65,
   "metadata": {},
   "outputs": [],
   "source": [
    "headers = {\n",
    "}"
   ]
  },
  {
   "cell_type": "code",
   "execution_count": 76,
   "metadata": {},
   "outputs": [],
   "source": [
    "import requests\n",
    "\n",
    "response = requests.get(url + \"?\" + qs, headers=headers)\n",
    "# print(response.json())\n",
    "d = response.json()"
   ]
  },
  {
   "cell_type": "code",
   "execution_count": 77,
   "metadata": {},
   "outputs": [],
   "source": [
    "esf = 'esf'\n",
    "xf = 'xf'"
   ]
  },
  {
   "cell_type": "code",
   "execution_count": 78,
   "metadata": {},
   "outputs": [],
   "source": [
    "# 所有的新房房源\n",
    "xffy_all = []\n",
    "# 所有的二手房房源\n",
    "esffy_all = []"
   ]
  },
  {
   "cell_type": "code",
   "execution_count": 79,
   "metadata": {},
   "outputs": [],
   "source": [
    "# 找出所有的二手房房源\n",
    "\n",
    "esf_pagenum = d['data']['esflist']['fangyuanList']['pagenum']\n",
    "\n",
    "params['type'] = esf\n",
    "params['pagingType'] = esf\n",
    "for p in range(1, esf_pagenum):\n",
    "    params['pagingNum'] = 1\n",
    "    qs = parse.urlencode(params)\n",
    "    resonse = requests.get(url + '?' + qs, headers=headers)\n",
    "    d = response.json()\n",
    "    esffy_all.extend(d['data']['esflist']['loupanList']['hit'])\n"
   ]
  },
  {
   "cell_type": "code",
   "execution_count": 81,
   "metadata": {},
   "outputs": [
    {
     "name": "stdout",
     "output_type": "stream",
     "text": [
      "1500\n"
     ]
    }
   ],
   "source": [
    "print(len(esffy_all))"
   ]
  },
  {
   "cell_type": "code",
   "execution_count": 67,
   "metadata": {},
   "outputs": [],
   "source": [
    "# print(d['code'])\n",
    "# print(d['msg'])\n",
    "# print(d['data']['comarea'])  # 区域信息\n",
    "# print(d['data']['xflist'])   # 新房列表\n",
    "# print(d['data']['esflist'])  # 二手房列表\n",
    "\n",
    "# 新房数据\n",
    "xflist = d['data']['xflist']\n",
    "# 二手房数据\n",
    "esflist = d['data']['esflist']\n",
    "# 二手房 -- 楼盘\n",
    "esflp = esflist['loupanList']['hit']\n",
    "# 二手房 -- 房源\n",
    "esffy = esflist['fangyuanList']['hit']"
   ]
  },
  {
   "cell_type": "code",
   "execution_count": 68,
   "metadata": {},
   "outputs": [
    {
     "name": "stdout",
     "output_type": "stream",
     "text": [
      "锦江阁\n",
      "阿玛尼艺术公寓\n",
      "华侨城滨江壹号\n",
      "锦御东府\n"
     ]
    }
   ],
   "source": [
    "# print(xflist['loupanList']['allResultNum']) # 所有数据总数\n",
    "# print(xflist['loupanList']['pagenum'])      # 页数\n",
    "# print(xflist['loupanList']['hit'])          # 命中的小区\n",
    "\n",
    "for itm in xflist['loupanList']['hit']:\n",
    "    print(itm['title'])              # 小区名称\n",
    "    # print(itm['adshowurl'])          # \n",
    "    # print(itm['adtype'])             # \n",
    "    # print(itm['bbs'])                # 订阅\n",
    "    # print(itm['dianpingcount'])      # 点评\n",
    "    # print(itm['housedetail'])        # 房屋详情\n",
    "    # print(itm['housedongtai'])       # 房屋动态\n",
    "    # print(itm['householdpic'])       # \n",
    "    # print(itm['housetagarr'])        # \n",
    "    # print(itm['housetype'])          # 房屋类型【loupan：楼盘】\n",
    "    # print(itm['houseurl'])           # 房屋链接\n",
    "    # print(itm['minarea'])            # 最小面积\n",
    "    # print(itm['maxarea'])            # 最大面积\n",
    "    # print(itm['newCode'])            # \n",
    "    # print(itm['photo'])              # 房屋照片\n",
    "    # print(itm['picAddress'])         # 照片地址\n",
    "    # print(itm['price_num'])          # \n",
    "    # print(itm['price_unit'])         # \n",
    "    # print(itm['purpose'])            # 用途\n",
    "    # print(itm['saling'])             # 是否在售？\n",
    "    # print(itm['tao'])                # \n",
    "    # print(itm['tejia'])              # 特价？\n",
    "    # print(itm['xiaoguotu'])          # \n",
    "    # print(itm['x'])                  # 小区所在经度\n",
    "    # print(itm['y'])                  # 小区所在维度\n",
    "    # print(itm['yidi'])               # \n",
    "    # print(itm['zongfen'])            # 总分（房天下的评分）\n"
   ]
  },
  {
   "cell_type": "code",
   "execution_count": 69,
   "metadata": {},
   "outputs": [],
   "source": [
    "for itm in esflp:\n",
    "    pass\n",
    "    # print(itm['projname'], itm['price'])\n",
    "    # print(itm['address'])\n",
    "    # print(itm['comarea'])\n",
    "    # print(itm['district'])\n",
    "    # print(itm['domain'])\n",
    "    # print(itm['housetype'])\n",
    "    # print(itm['newcode'])\n",
    "    # print(itm['tao'])\n",
    "    # print(itm['x'])\n",
    "    # print(itm['y'])\n",
    "    # print(itm['zfTao'])\n",
    "    # print(itm['zhangfu'])"
   ]
  },
  {
   "cell_type": "code",
   "execution_count": 72,
   "metadata": {},
   "outputs": [
    {
     "name": "stdout",
     "output_type": "stream",
     "text": [
      "中港CCPARK 0.82万/平\n",
      "旺旺商业广场 1.02万/平\n",
      "神仙树3号院 1.02万/平\n",
      "国嘉新视界 1.10万/平\n",
      "蓝润V客东都 1.11万/平\n",
      "俊发星雅俊园 1.15万/平\n",
      "上东家园 1.17万/平\n",
      "大观苑二期 1.24万/平\n",
      "奥克斯广场 1.25万/平\n",
      "锦馨家园 1.33万/平\n",
      "北顺街6号院 1.34万/平\n",
      "莲花新一区 1.38万/平\n",
      "神仙树北路6号院 1.41万/平\n",
      "魅力阳光 1.56万/平\n",
      "东景雅苑 1.62万/平\n",
      "东润理想居 1.62万/平\n",
      "东景家园 1.69万/平\n",
      "蓝谷地一期 1.77万/平\n",
      "东洪广厦 1.78万/平\n",
      "王府花园(高新) 1.78万/平\n"
     ]
    }
   ],
   "source": [
    "# 二手房 -- 楼盘     低价排名前 10\n",
    "lp = sorted(esflp, key=lambda x:float(x['price']))\n",
    "\n",
    "lp_num = 20\n",
    "for itm in lp[:lp_num]:\n",
    "    print(itm['projname'], itm['price'] + '万/平')"
   ]
  },
  {
   "cell_type": "code",
   "execution_count": 71,
   "metadata": {},
   "outputs": [
    {
     "name": "stdout",
     "output_type": "stream",
     "text": [
      "武侯区桐梓林70年住宅 租金7K 精装套二 近地铁核心地段\n",
      "南二环主城区精装现房在售服务式70年住宅\n",
      "捡漏豪装现房 三面采光户型 地铁上建\n",
      "市中心 主城区 精装现房在售 服务式70年住宅 直接购买\n",
      "南二环主城区精装现房在售服务式70年住宅\n",
      "捡漏豪装现房 三面采光户型 地铁上建\n",
      "武侯区南二环桐梓林板块70年豪装现房住宅近地铁高端物业\n",
      "新上攀成钢COSMO天廊|品质攀成钢天廊4.9米品质新房\n",
      "市中心地铁入户4.9米跃层 买一层得两层 超大赠送 商业成熟\n",
      "高新区金融城,70年住宅正 读泡小 可按揭 总价低至158万\n",
      "南二环 地铁口 单价1.3 精装公寓\n",
      "不收你中介费-还要给你几万块钱-金融城,瑞禧公馆70年读泡小\n",
      "拥金仅0.5%,高新,精装套二,带地暖,安静,视野好,有學位\n",
      "中阶费0.5% 华熙528盈都,对中庭安静 满二\n",
      "华熙528艺术村盈都 2室1厅 东北\n",
      "鑫苑名家二期 2室1厅 东南\n",
      "人居锦尚春天A区 2室2厅 东南\n",
      "交大绿岭一期,中阶费0.5% 精装套二,可以改套三 房东诚心\n",
      "成功红树林 中阶费0.5% 近地铁站 精装套二 高楼层 视野\n",
      "和祥瑞苑 2室2厅 南\n"
     ]
    }
   ],
   "source": [
    "# 二手房 -- 房源\n",
    "for itm in esffy:\n",
    "    print(itm['title'])"
   ]
  }
 ],
 "metadata": {
  "kernelspec": {
   "display_name": "myenv",
   "language": "python",
   "name": "python3"
  },
  "language_info": {
   "codemirror_mode": {
    "name": "ipython",
    "version": 3
   },
   "file_extension": ".py",
   "mimetype": "text/x-python",
   "name": "python",
   "nbconvert_exporter": "python",
   "pygments_lexer": "ipython3",
   "version": "3.10.4"
  },
  "orig_nbformat": 4,
  "vscode": {
   "interpreter": {
    "hash": "fe32b506a41fd6e547419893516eb0475b202c6663ab6a0e062f20e9f3dc1f92"
   }
  }
 },
 "nbformat": 4,
 "nbformat_minor": 2
}
