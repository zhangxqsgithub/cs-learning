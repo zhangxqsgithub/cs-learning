{
 "cells": [
  {
   "cell_type": "code",
   "execution_count": 6,
   "metadata": {},
   "outputs": [
    {
     "name": "stdout",
     "output_type": "stream",
     "text": [
      "https://map.fang.com/ajaxSearch.html\n"
     ]
    }
   ],
   "source": [
    "url = 'https://map.fang.com/ajaxSearch.html'\n",
    "print(url)"
   ]
  },
  {
   "cell_type": "code",
   "execution_count": 7,
   "metadata": {},
   "outputs": [
    {
     "name": "stdout",
     "output_type": "stream",
     "text": [
      "{'city': 'cd', 'type': 'xf,esf', 'xfPrice': -250, 'esfPrice': '', 'zfPrice': '', 'room': 2, 'area': '', 'purpose': 0, 'keyword': '', 'zoom': '15.360643272362998', 'newcodeType': '', 'newcode': '', 'pagingType': '', 'pagingNum': 1, 'x1': '104.05921588933664', 'x2': '104.15178905452454', 'y1': '30.606360251039263', 'y2': '30.649633596137576', 'subwayline': '', 'subwaystation': '', 'issamllcity': 0, 'fapaiPrice': '', 'fapaiPropertyType': '', 'fapaiStage': '', 'fapaiStatus': '', 'noevent': False}\n"
     ]
    }
   ],
   "source": [
    "params = {\n",
    "    'city': 'cd',       # 城市【cd：成都】\n",
    "    'type': 'xf,esf',   # 房屋类型【xf：新房；esf：二手房】\n",
    "    'xfPrice': '',      # 新房价格【x-y 单位万】\n",
    "    'esfPrice':  '',    # 二手房价格【x-y 单位万】\n",
    "    'zfPrice': '',      # 租房价格【x-y 单位万】\n",
    "    'room': 2,          # 几居【空为不限】\n",
    "    'area': '',         # 面积【x-y 单位平方米】\n",
    "    'purpose': 0,       # 用途【0：不限；1：住宅；2：别墅；3：写字楼；4：商铺；】\n",
    "    'keyword': '',      # 搜索关键字【例如小区名称】\n",
    "    'zoom': '15.360643272362998',     # 缩放大小【数字越大缩放越大】\n",
    "    'newcodeType': '',\n",
    "    'newcode': '',\n",
    "    'pagingType': '',\n",
    "    'pagingNum': 1,\n",
    "    'x1': '104.05921588933664',      # 经度\n",
    "    'y1': '30.606360251039263',      # 纬度\n",
    "    'x2': '104.15178905452454',      # 经度\n",
    "    'y2': '30.649633596137576',      # 纬度\n",
    "    'subwayline': '',                # 地铁几号线\n",
    "    'subwaystation': '',             # 地铁站\n",
    "    'issamllcity': 0,\n",
    "    'fapaiPrice': '',\n",
    "    'fapaiPropertyType': '',\n",
    "    'fapaiStage': '',\n",
    "    'fapaiStatus': '',\n",
    "    'noevent':  False\n",
    "}\n",
    "print(params)"
   ]
  }
 ],
 "metadata": {
  "kernelspec": {
   "display_name": "myenv",
   "language": "python",
   "name": "python3"
  },
  "language_info": {
   "codemirror_mode": {
    "name": "ipython",
    "version": 3
   },
   "file_extension": ".py",
   "mimetype": "text/x-python",
   "name": "python",
   "nbconvert_exporter": "python",
   "pygments_lexer": "ipython3",
   "version": "3.10.4"
  },
  "orig_nbformat": 4,
  "vscode": {
   "interpreter": {
    "hash": "fe32b506a41fd6e547419893516eb0475b202c6663ab6a0e062f20e9f3dc1f92"
   }
  }
 },
 "nbformat": 4,
 "nbformat_minor": 2
}
